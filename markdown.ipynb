{
 "cells": [
  {
   "cell_type": "markdown",
   "id": "6db95750",
   "metadata": {},
   "source": [
    "# Langchain GraphDB"
   ]
  },
  {
   "cell_type": "code",
   "execution_count": 1,
   "id": "39192140",
   "metadata": {},
   "outputs": [],
   "source": [
    "from langchain_community.document_loaders import TextLoader\n",
    "from langchain_text_splitters import CharacterTextSplitter\n",
    "import os\n",
    "import getpass\n",
    "from langchain_google_genai.llms import GoogleGenerativeAI\n",
    "from langchain_experimental.graph_transformers import LLMGraphTransformer\n",
    "from langchain_community.graphs import Neo4jGraph\n"
   ]
  },
  {
   "cell_type": "code",
   "execution_count": 27,
   "id": "e2ba6e1a",
   "metadata": {},
   "outputs": [],
   "source": [
    "from langchain.schema import Document\n",
    "\n",
    "loader = TextLoader(\"output.txt\")\n",
    "documents= loader.load()\n",
    "\n",
    "full_text = \"\".join([doc.page_content for doc in documents])\n",
    "\n",
    "# Take the first 3000 characters\n",
    "sample_text = full_text[:3000]\n",
    "\n",
    "sample_doc = [Document(page_content=sample_text)]\n",
    "\n",
    "text_splitter = CharacterTextSplitter(chunk_size=200 , chunk_overlap= 20)\n",
    "texts = text_splitter.split_documents(sample_doc)"
   ]
  },
  {
   "cell_type": "code",
   "execution_count": 28,
   "id": "01f02903",
   "metadata": {},
   "outputs": [],
   "source": [
    "os.environ[\"GOOGLE_API_KEY\"] = getpass.getpass()\n",
    "llm = GoogleGenerativeAI(model= \"gemini-2.5-flash\", temperature= 0.0)\n"
   ]
  },
  {
   "cell_type": "code",
   "execution_count": 29,
   "id": "33a90cc3",
   "metadata": {},
   "outputs": [],
   "source": [
    "llm_transformer = LLMGraphTransformer(llm= llm)\n",
    "graph_doc = llm_transformer.convert_to_graph_documents(texts)"
   ]
  },
  {
   "cell_type": "code",
   "execution_count": 30,
   "id": "7e1d0a80",
   "metadata": {},
   "outputs": [
    {
     "name": "stdout",
     "output_type": "stream",
     "text": [
      "<bound method BaseModel.dict of GraphDocument(nodes=[Node(id='jambon', type='Food', properties={}), Node(id='Grasset', type='Publisher', properties={}), Node(id=\"HERMÈS II. L'INTERFÉRENCE\", type='Book', properties={}), Node(id='Lucrèce', type='Person', properties={}), Node(id='MICHEL SERRES', type='Person', properties={}), Node(id='désordre', type='Concept', properties={}), Node(id='HERMÈS 1. LA COMMUNICATION', type='Book', properties={}), Node(id='LA NAISSANCE DE LA PHYSIQUE DANS LE TEXTE DE LUCRÈCE. FLEUVES ET TURBULENCES', type='Book', properties={}), Node(id='Hermann', type='Publisher', properties={}), Node(id='JOUVENCES. SUR JULES VERNE', type='Book', properties={}), Node(id='Le rat rustique', type='Animal', properties={}), Node(id='Presses Universitaires de France', type='Publisher', properties={}), Node(id='1977', type='Year', properties={}), Node(id='restes de situation', type='Concept', properties={}), Node(id='GELS', type='Book', properties={}), Node(id='distribution', type='Concept', properties={}), Node(id='interventions', type='Concept', properties={}), Node(id='ESTHÉTIQUES. SUR CARPACCIO', type='Book', properties={}), Node(id='Le fermier général', type='Role', properties={}), Node(id='LE PARASITE', type='Book', properties={}), Node(id='1969', type='Year', properties={}), Node(id='FEUX ET SIGNAUX DE BRUME', type='Book', properties={}), Node(id='communication', type='Concept', properties={}), Node(id='tapis de Turquie', type='Object', properties={}), Node(id=\"Fables d'Ésope\", type='Book', properties={}), Node(id='Ésope', type='Person', properties={}), Node(id='panique', type='Concept', properties={}), Node(id='rogatons', type='Food', properties={}), Node(id='gabelou', type='Person', properties={}), Node(id=\"n'a rien produit\", type='Characteristic', properties={}), Node(id='Boursault', type='Person', properties={}), Node(id='interruption', type='Concept', properties={}), Node(id='festin de roi', type='Concept', properties={}), Node(id='1972', type='Year', properties={}), Node(id='1974', type='Year', properties={}), Node(id='traduction', type='Concept', properties={}), Node(id='huile', type='Food', properties={}), Node(id='bruit', type='Concept', properties={}), Node(id='information', type='Concept', properties={}), Node(id='LE SYSTÈME DE LEIBNIZ ET SES MODÈLES MATHÉMATIQUES (2 vol.)', type='Book', properties={}), Node(id='Auguste Comte', type='Person', properties={}), Node(id='HERMÈS V. LE PASSAGE DU NORD-OUEST', type='Book', properties={}), Node(id='ordre différent', type='Concept', properties={}), Node(id='philosophie positive', type='Concept', properties={}), Node(id='grasses', type='Characteristic', properties={}), Node(id='HERMÈS III. LA TRADUCTION', type='Book', properties={}), Node(id='Bernard Grasset', type='Publisher', properties={}), Node(id='petitsalé', type='Food', properties={}), Node(id='rupture de communication', type='Concept', properties={}), Node(id='1968', type='Year', properties={}), Node(id='rentes de situation', type='Concept', properties={}), Node(id='HERMÈS IV. LA DISTRIBUTION', type='Book', properties={}), Node(id='restes', type='Food', properties={}), Node(id='Minuit', type='Publisher', properties={}), Node(id='Huile', type='Food', properties={}), Node(id=\"Rien n'y manque\", type='Concept', properties={}), Node(id='graillons', type='Food', properties={}), Node(id=\"reliefs d'ortolans\", type='Food', properties={}), Node(id='1975', type='Year', properties={}), Node(id='physique', type='Concept', properties={}), Node(id='ZOLA', type='Book', properties={}), Node(id='beurre', type='Food', properties={}), Node(id='PARIS', type='Location', properties={}), Node(id='Carpaccio', type='Person', properties={}), Node(id='message', type='Concept', properties={}), Node(id='Leibniz', type='Person', properties={}), Node(id='parasite', type='Characteristic', properties={}), Node(id='table à ortolans', type='Concept', properties={}), Node(id='interférence', type='Concept', properties={}), Node(id=\"L'invitation\", type='Concept', properties={}), Node(id='mathématiques', type='Concept', properties={}), Node(id='fromage', type='Food', properties={}), Node(id='La Fontaine', type='Person', properties={}), Node(id='bonhomme', type='Person', properties={}), Node(id='Éditions Grasset et Fasquelle', type='Publisher', properties={}), Node(id='1980', type='Year', properties={}), Node(id='Jules Verne', type='Person', properties={}), Node(id='AUGUSTE COMTE. LEÇONS DE PHIILOSOPHIE POSITIVE, tome l', type='Book', properties={}), Node(id='corruption', type='Concept', properties={}), Node(id='Le rat de ville', type='Animal', properties={}), Node(id='Zola', type='Person', properties={})], relationships=[Relationship(source=Node(id='LE PARASITE', type='Book', properties={}), target=Node(id='MICHEL SERRES', type='Person', properties={}), type='AUTHORED_BY', properties={}), Relationship(source=Node(id='LE PARASITE', type='Book', properties={}), target=Node(id='Bernard Grasset', type='Publisher', properties={}), type='PUBLISHED_BY', properties={}), Relationship(source=Node(id='LE PARASITE', type='Book', properties={}), target=Node(id='1980', type='Year', properties={}), type='PUBLISHED_IN_YEAR', properties={}), Relationship(source=Node(id='LE PARASITE', type='Book', properties={}), target=Node(id='PARIS', type='Location', properties={}), type='PUBLISHED_IN_LOCATION', properties={}), Relationship(source=Node(id='Éditions Grasset et Fasquelle', type='Publisher', properties={}), target=Node(id='LE PARASITE', type='Book', properties={}), type='HOLDS_COPYRIGHT_FOR', properties={}), Relationship(source=Node(id='Éditions Grasset et Fasquelle', type='Publisher', properties={}), target=Node(id='1980', type='Year', properties={}), type='COPYRIGHT_YEAR', properties={}), Relationship(source=Node(id='FEUX ET SIGNAUX DE BRUME', type='Book', properties={}), target=Node(id='MICHEL SERRES', type='Person', properties={}), type='AUTHORED_BY', properties={}), Relationship(source=Node(id='FEUX ET SIGNAUX DE BRUME', type='Book', properties={}), target=Node(id='Grasset', type='Publisher', properties={}), type='PUBLISHED_BY', properties={}), Relationship(source=Node(id='FEUX ET SIGNAUX DE BRUME', type='Book', properties={}), target=Node(id='1975', type='Year', properties={}), type='PUBLISHED_IN_YEAR', properties={}), Relationship(source=Node(id='ZOLA', type='Book', properties={}), target=Node(id='MICHEL SERRES', type='Person', properties={}), type='AUTHORED_BY', properties={}), Relationship(source=Node(id='ZOLA', type='Book', properties={}), target=Node(id='Grasset', type='Publisher', properties={}), type='PUBLISHED_BY', properties={}), Relationship(source=Node(id='ZOLA', type='Book', properties={}), target=Node(id='1975', type='Year', properties={}), type='PUBLISHED_IN_YEAR', properties={}), Relationship(source=Node(id='ZOLA', type='Book', properties={}), target=Node(id='Zola', type='Person', properties={}), type='ABOUT', properties={}), Relationship(source=Node(id='HERMÈS 1. LA COMMUNICATION', type='Book', properties={}), target=Node(id='MICHEL SERRES', type='Person', properties={}), type='AUTHORED_BY', properties={}), Relationship(source=Node(id='HERMÈS 1. LA COMMUNICATION', type='Book', properties={}), target=Node(id='Minuit', type='Publisher', properties={}), type='PUBLISHED_BY', properties={}), Relationship(source=Node(id='HERMÈS 1. LA COMMUNICATION', type='Book', properties={}), target=Node(id='1969', type='Year', properties={}), type='PUBLISHED_IN_YEAR', properties={}), Relationship(source=Node(id='HERMÈS 1. LA COMMUNICATION', type='Book', properties={}), target=Node(id='communication', type='Concept', properties={}), type='DISCUSSES', properties={}), Relationship(source=Node(id=\"HERMÈS II. L'INTERFÉRENCE\", type='Book', properties={}), target=Node(id='MICHEL SERRES', type='Person', properties={}), type='AUTHORED_BY', properties={}), Relationship(source=Node(id=\"HERMÈS II. L'INTERFÉRENCE\", type='Book', properties={}), target=Node(id='Minuit', type='Publisher', properties={}), type='PUBLISHED_BY', properties={}), Relationship(source=Node(id=\"HERMÈS II. L'INTERFÉRENCE\", type='Book', properties={}), target=Node(id='1972', type='Year', properties={}), type='PUBLISHED_IN_YEAR', properties={}), Relationship(source=Node(id=\"HERMÈS II. L'INTERFÉRENCE\", type='Book', properties={}), target=Node(id='interférence', type='Concept', properties={}), type='DISCUSSES', properties={}), Relationship(source=Node(id='HERMÈS III. LA TRADUCTION', type='Book', properties={}), target=Node(id='MICHEL SERRES', type='Person', properties={}), type='AUTHORED_BY', properties={}), Relationship(source=Node(id='HERMÈS III. LA TRADUCTION', type='Book', properties={}), target=Node(id='Minuit', type='Publisher', properties={}), type='PUBLISHED_BY', properties={}), Relationship(source=Node(id='HERMÈS III. LA TRADUCTION', type='Book', properties={}), target=Node(id='1974', type='Year', properties={}), type='PUBLISHED_IN_YEAR', properties={}), Relationship(source=Node(id='HERMÈS III. LA TRADUCTION', type='Book', properties={}), target=Node(id='traduction', type='Concept', properties={}), type='DISCUSSES', properties={}), Relationship(source=Node(id='HERMÈS IV. LA DISTRIBUTION', type='Book', properties={}), target=Node(id='MICHEL SERRES', type='Person', properties={}), type='AUTHORED_BY', properties={}), Relationship(source=Node(id='HERMÈS IV. LA DISTRIBUTION', type='Book', properties={}), target=Node(id='Minuit', type='Publisher', properties={}), type='PUBLISHED_BY', properties={}), Relationship(source=Node(id='HERMÈS IV. LA DISTRIBUTION', type='Book', properties={}), target=Node(id='1977', type='Year', properties={}), type='PUBLISHED_IN_YEAR', properties={}), Relationship(source=Node(id='HERMÈS IV. LA DISTRIBUTION', type='Book', properties={}), target=Node(id='distribution', type='Concept', properties={}), type='DISCUSSES', properties={}), Relationship(source=Node(id='HERMÈS V. LE PASSAGE DU NORD-OUEST', type='Book', properties={}), target=Node(id='MICHEL SERRES', type='Person', properties={}), type='AUTHORED_BY', properties={}), Relationship(source=Node(id='HERMÈS V. LE PASSAGE DU NORD-OUEST', type='Book', properties={}), target=Node(id='Minuit', type='Publisher', properties={}), type='PUBLISHED_BY', properties={}), Relationship(source=Node(id='HERMÈS V. LE PASSAGE DU NORD-OUEST', type='Book', properties={}), target=Node(id='1980', type='Year', properties={}), type='PUBLISHED_IN_YEAR', properties={}), Relationship(source=Node(id='JOUVENCES. SUR JULES VERNE', type='Book', properties={}), target=Node(id='MICHEL SERRES', type='Person', properties={}), type='AUTHORED_BY', properties={}), Relationship(source=Node(id='JOUVENCES. SUR JULES VERNE', type='Book', properties={}), target=Node(id='Minuit', type='Publisher', properties={}), type='PUBLISHED_BY', properties={}), Relationship(source=Node(id='JOUVENCES. SUR JULES VERNE', type='Book', properties={}), target=Node(id='1974', type='Year', properties={}), type='PUBLISHED_IN_YEAR', properties={}), Relationship(source=Node(id='JOUVENCES. SUR JULES VERNE', type='Book', properties={}), target=Node(id='Jules Verne', type='Person', properties={}), type='ABOUT', properties={}), Relationship(source=Node(id='LA NAISSANCE DE LA PHYSIQUE DANS LE TEXTE DE LUCRÈCE. FLEUVES ET TURBULENCES', type='Book', properties={}), target=Node(id='MICHEL SERRES', type='Person', properties={}), type='AUTHORED_BY', properties={}), Relationship(source=Node(id='LA NAISSANCE DE LA PHYSIQUE DANS LE TEXTE DE LUCRÈCE. FLEUVES ET TURBULENCES', type='Book', properties={}), target=Node(id='Minuit', type='Publisher', properties={}), type='PUBLISHED_BY', properties={}), Relationship(source=Node(id='LA NAISSANCE DE LA PHYSIQUE DANS LE TEXTE DE LUCRÈCE. FLEUVES ET TURBULENCES', type='Book', properties={}), target=Node(id='1977', type='Year', properties={}), type='PUBLISHED_IN_YEAR', properties={}), Relationship(source=Node(id='LA NAISSANCE DE LA PHYSIQUE DANS LE TEXTE DE LUCRÈCE. FLEUVES ET TURBULENCES', type='Book', properties={}), target=Node(id='physique', type='Concept', properties={}), type='DISCUSSES', properties={}), Relationship(source=Node(id='LA NAISSANCE DE LA PHYSIQUE DANS LE TEXTE DE LUCRÈCE. FLEUVES ET TURBULENCES', type='Book', properties={}), target=Node(id='Lucrèce', type='Person', properties={}), type='ABOUT', properties={}), Relationship(source=Node(id='ESTHÉTIQUES. SUR CARPACCIO', type='Book', properties={}), target=Node(id='MICHEL SERRES', type='Person', properties={}), type='AUTHORED_BY', properties={}), Relationship(source=Node(id='ESTHÉTIQUES. SUR CARPACCIO', type='Book', properties={}), target=Node(id='Hermann', type='Publisher', properties={}), type='PUBLISHED_BY', properties={}), Relationship(source=Node(id='ESTHÉTIQUES. SUR CARPACCIO', type='Book', properties={}), target=Node(id='1975', type='Year', properties={}), type='PUBLISHED_IN_YEAR', properties={}), Relationship(source=Node(id='ESTHÉTIQUES. SUR CARPACCIO', type='Book', properties={}), target=Node(id='Carpaccio', type='Person', properties={}), type='ABOUT', properties={}), Relationship(source=Node(id='AUGUSTE COMTE. LEÇONS DE PHIILOSOPHIE POSITIVE, tome l', type='Book', properties={}), target=Node(id='MICHEL SERRES', type='Person', properties={}), type='AUTHORED_BY', properties={}), Relationship(source=Node(id='AUGUSTE COMTE. LEÇONS DE PHIILOSOPHIE POSITIVE, tome l', type='Book', properties={}), target=Node(id='Hermann', type='Publisher', properties={}), type='PUBLISHED_BY', properties={}), Relationship(source=Node(id='AUGUSTE COMTE. LEÇONS DE PHIILOSOPHIE POSITIVE, tome l', type='Book', properties={}), target=Node(id='1975', type='Year', properties={}), type='PUBLISHED_IN_YEAR', properties={}), Relationship(source=Node(id='AUGUSTE COMTE. LEÇONS DE PHIILOSOPHIE POSITIVE, tome l', type='Book', properties={}), target=Node(id='Auguste Comte', type='Person', properties={}), type='ABOUT', properties={}), Relationship(source=Node(id='AUGUSTE COMTE. LEÇONS DE PHIILOSOPHIE POSITIVE, tome l', type='Book', properties={}), target=Node(id='philosophie positive', type='Concept', properties={}), type='DISCUSSES', properties={}), Relationship(source=Node(id='LE SYSTÈME DE LEIBNIZ ET SES MODÈLES MATHÉMATIQUES (2 vol.)', type='Book', properties={}), target=Node(id='MICHEL SERRES', type='Person', properties={}), type='AUTHORED_BY', properties={}), Relationship(source=Node(id='LE SYSTÈME DE LEIBNIZ ET SES MODÈLES MATHÉMATIQUES (2 vol.)', type='Book', properties={}), target=Node(id='Presses Universitaires de France', type='Publisher', properties={}), type='PUBLISHED_BY', properties={}), Relationship(source=Node(id='LE SYSTÈME DE LEIBNIZ ET SES MODÈLES MATHÉMATIQUES (2 vol.)', type='Book', properties={}), target=Node(id='1968', type='Year', properties={}), type='PUBLISHED_IN_YEAR', properties={}), Relationship(source=Node(id='LE SYSTÈME DE LEIBNIZ ET SES MODÈLES MATHÉMATIQUES (2 vol.)', type='Book', properties={}), target=Node(id='Leibniz', type='Person', properties={}), type='ABOUT', properties={}), Relationship(source=Node(id='LE SYSTÈME DE LEIBNIZ ET SES MODÈLES MATHÉMATIQUES (2 vol.)', type='Book', properties={}), target=Node(id='mathématiques', type='Concept', properties={}), type='DISCUSSES', properties={}), Relationship(source=Node(id='GELS', type='Book', properties={}), target=Node(id='MICHEL SERRES', type='Person', properties={}), type='AUTHORED_BY', properties={}), Relationship(source=Node(id='GELS', type='Book', properties={}), target=Node(id='1977', type='Year', properties={}), type='PUBLISHED_IN_YEAR', properties={}), Relationship(source=Node(id='Le rat de ville', type='Animal', properties={}), target=Node(id='Le rat rustique', type='Animal', properties={}), type='INVITES', properties={}), Relationship(source=Node(id='Le rat rustique', type='Animal', properties={}), target=Node(id='Le rat de ville', type='Animal', properties={}), type='IS_INVITED_BY', properties={}), Relationship(source=Node(id='Le rat de ville', type='Animal', properties={}), target=Node(id=\"reliefs d'ortolans\", type='Food', properties={}), type='EATS', properties={}), Relationship(source=Node(id='Le rat rustique', type='Animal', properties={}), target=Node(id=\"reliefs d'ortolans\", type='Food', properties={}), type='EATS', properties={}), Relationship(source=Node(id=\"reliefs d'ortolans\", type='Food', properties={}), target=Node(id='restes', type='Food', properties={}), type='IS_A', properties={}), Relationship(source=Node(id=\"reliefs d'ortolans\", type='Food', properties={}), target=Node(id='graillons', type='Food', properties={}), type='IS_A', properties={}), Relationship(source=Node(id=\"reliefs d'ortolans\", type='Food', properties={}), target=Node(id='rogatons', type='Food', properties={}), type='IS_A', properties={}), Relationship(source=Node(id='Le rat de ville', type='Animal', properties={}), target=Node(id=\"n'a rien produit\", type='Characteristic', properties={}), type='HAS_CHARACTERISTIC', properties={}), Relationship(source=Node(id='Boursault', type='Person', properties={}), target=Node(id=\"Fables d'Ésope\", type='Book', properties={}), type='AUTHORED', properties={}), Relationship(source=Node(id=\"Fables d'Ésope\", type='Book', properties={}), target=Node(id='Ésope', type='Person', properties={}), type='AUTHORED_BY', properties={}), Relationship(source=Node(id='Le rat de ville', type='Animal', properties={}), target=Node(id='Le fermier général', type='Role', properties={}), type='RESIDES_WITH', properties={}), Relationship(source=Node(id='Le fermier général', type='Role', properties={}), target=Node(id='Huile', type='Food', properties={}), type='HAS_FOOD', properties={}), Relationship(source=Node(id='Le fermier général', type='Role', properties={}), target=Node(id='beurre', type='Food', properties={}), type='HAS_FOOD', properties={}), Relationship(source=Node(id='Le fermier général', type='Role', properties={}), target=Node(id='jambon', type='Food', properties={}), type='HAS_FOOD', properties={}), Relationship(source=Node(id='Le fermier général', type='Role', properties={}), target=Node(id='petitsalé', type='Food', properties={}), type='HAS_FOOD', properties={}), Relationship(source=Node(id='Le fermier général', type='Role', properties={}), target=Node(id='fromage', type='Food', properties={}), type='HAS_FOOD', properties={}), Relationship(source=Node(id='Le fermier général', type='Role', properties={}), target=Node(id='huile', type='Food', properties={}), type='DOES_NOT_PRODUCE', properties={}), Relationship(source=Node(id='Le fermier général', type='Role', properties={}), target=Node(id='jambon', type='Food', properties={}), type='DOES_NOT_PRODUCE', properties={}), Relationship(source=Node(id='Le fermier général', type='Role', properties={}), target=Node(id='fromage', type='Food', properties={}), type='DOES_NOT_PRODUCE', properties={}), Relationship(source=Node(id='Le fermier général', type='Role', properties={}), target=Node(id='huile', type='Food', properties={}), type='DIVERT_FOR_PROFIT', properties={}), Relationship(source=Node(id='Le fermier général', type='Role', properties={}), target=Node(id='jambon', type='Food', properties={}), type='DIVERT_FOR_PROFIT', properties={}), Relationship(source=Node(id='Le fermier général', type='Role', properties={}), target=Node(id='fromage', type='Food', properties={}), type='DIVERT_FOR_PROFIT', properties={}), Relationship(source=Node(id='Le rat de ville', type='Animal', properties={}), target=Node(id='restes', type='Food', properties={}), type='TAKES', properties={}), Relationship(source=Node(id='Le rat de ville', type='Animal', properties={}), target=Node(id='restes', type='Food', properties={}), type='DIVERT_FOR_PROFIT', properties={}), Relationship(source=Node(id=\"L'invitation\", type='Concept', properties={}), target=Node(id='Le rat rustique', type='Animal', properties={}), type='BENEFITS', properties={}), Relationship(source=Node(id='Le rat de ville', type='Animal', properties={}), target=Node(id='bruit', type='Concept', properties={}), type='FLEES_FROM', properties={}), Relationship(source=Node(id='Le rat rustique', type='Animal', properties={}), target=Node(id='bruit', type='Concept', properties={}), type='FLEES_FROM', properties={}), Relationship(source=Node(id='bruit', type='Concept', properties={}), target=Node(id='message', type='Concept', properties={}), type='IS_A', properties={}), Relationship(source=Node(id='bruit', type='Concept', properties={}), target=Node(id='information', type='Concept', properties={}), type='IS_A', properties={}), Relationship(source=Node(id='information', type='Concept', properties={}), target=Node(id='panique', type='Concept', properties={}), type='CAUSES', properties={}), Relationship(source=Node(id='bruit', type='Concept', properties={}), target=Node(id='interruption', type='Concept', properties={}), type='IS_A', properties={}), Relationship(source=Node(id='bruit', type='Concept', properties={}), target=Node(id='corruption', type='Concept', properties={}), type='IS_A', properties={}), Relationship(source=Node(id='bruit', type='Concept', properties={}), target=Node(id='rupture de communication', type='Concept', properties={}), type='IS_A', properties={}), Relationship(source=Node(id='bruit', type='Concept', properties={}), target=Node(id='parasite', type='Characteristic', properties={}), type='HAS_CHARACTERISTIC', properties={}), Relationship(source=Node(id='parasite', type='Characteristic', properties={}), target=Node(id='désordre', type='Concept', properties={}), type='CAUSES', properties={}), Relationship(source=Node(id='parasite', type='Characteristic', properties={}), target=Node(id='ordre différent', type='Concept', properties={}), type='SOWS', properties={}), Relationship(source=Node(id='Le fermier général', type='Role', properties={}), target=Node(id='parasite', type='Characteristic', properties={}), type='HAS_CHARACTERISTIC', properties={}), Relationship(source=Node(id='Le fermier général', type='Role', properties={}), target=Node(id='rentes de situation', type='Concept', properties={}), type='RECEIVES', properties={}), Relationship(source=Node(id='rentes de situation', type='Concept', properties={}), target=Node(id='grasses', type='Characteristic', properties={}), type='HAS_CHARACTERISTIC', properties={}), Relationship(source=Node(id='rentes de situation', type='Concept', properties={}), target=Node(id='festin de roi', type='Concept', properties={}), type='INCLUDES', properties={}), Relationship(source=Node(id='rentes de situation', type='Concept', properties={}), target=Node(id='table à ortolans', type='Concept', properties={}), type='INCLUDES', properties={}), Relationship(source=Node(id='rentes de situation', type='Concept', properties={}), target=Node(id='tapis de Turquie', type='Object', properties={}), type='INCLUDES', properties={}), Relationship(source=Node(id='Le rat de ville', type='Animal', properties={}), target=Node(id='parasite', type='Characteristic', properties={}), type='HAS_CHARACTERISTIC', properties={}), Relationship(source=Node(id='Le rat de ville', type='Animal', properties={}), target=Node(id='restes de situation', type='Concept', properties={}), type='RECEIVES', properties={}), Relationship(source=Node(id='restes de situation', type='Concept', properties={}), target=Node(id=\"reliefs d'ortolans\", type='Food', properties={}), type='INCLUDES', properties={}), Relationship(source=Node(id='Le rat rustique', type='Animal', properties={}), target=Node(id='parasite', type='Characteristic', properties={}), type='HAS_CHARACTERISTIC', properties={}), Relationship(source=Node(id='Le rat rustique', type='Animal', properties={}), target=Node(id='Le rat de ville', type='Animal', properties={}), type='IS_ENTERTAINED_BY', properties={}), Relationship(source=Node(id='La Fontaine', type='Person', properties={}), target=Node(id=\"Rien n'y manque\", type='Concept', properties={}), type='QUOTES', properties={}), Relationship(source=Node(id='gabelou', type='Person', properties={}), target=Node(id='bonhomme', type='Person', properties={}), type='EXPLOITS', properties={}), Relationship(source=Node(id='Le rat de ville', type='Animal', properties={}), target=Node(id='Le fermier général', type='Role', properties={}), type='LEVIES_TAX_ON', properties={}), Relationship(source=Node(id='Le rat rustique', type='Animal', properties={}), target=Node(id='Le rat de ville', type='Animal', properties={}), type='EXPLOITS', properties={}), Relationship(source=Node(id='bruit', type='Concept', properties={}), target=Node(id='interruption', type='Concept', properties={}), type='CAUSES', properties={}), Relationship(source=Node(id='bruit', type='Concept', properties={}), target=Node(id='interventions', type='Concept', properties={}), type='STOPS', properties={})], source=Document(metadata={}, page_content=\"LE PARASITE\\nDU M~ME AUTEUR Aux éditions Grasset: FEUX ET SIGNAUX DE BRUME. ZOLA, 1975. Aux éditions de Minuit: HERMÈS 1. LA COMMUNICATION, 1969. HERMÈS II. L'INTERFÉRENCE, 1972. HERMÈS III. LA TRADUCTION, 1974. HERMÈS IV. LA DISTRIBUTION, 1977. HERMÈS V. LE PASSAGE DU NORD-OUEST, 1980. JOUVENCES. SUR JULES VERNE, 1974. LA NAISSANCE DE LA PHYSIQUE DANS LE TEXTE DE LUCRÈCE. FLEUVES ET TURBULENCES, 1977. Aux éditions Hermann: ESTHÉTIQUES. SUR CARPACCIO, 1975. AUGUSTE COMTE. LEÇONS DE PHIILOSOPHIE POSITIVE, tome l, 1975. Aux Presses Universitaires de France .' LE SYSTÈME DE LEIBNIZ ET SES MODÈLES MATHÉMATIQUES (2 vol.), 1968. Hors commerce: GELS, 1977.\\nMICHEL SERRES LE PARASITE BERNARD GRASSET PARIS\\nTous droits de traduction, de reproduction et d'adaptation réservés pour tous pays. © Éditions Grasset et Fasquelle, 1980.\\nBenoîtLise,àdemain\\nPREMIÈRE PARTIE Repas interrompus Logiques\\nRepas de rats La cascade Le rat de villeinvite,au tapis de Turquie. Le rat rustique est l'invité. Les deux rognent, grignotent des reliefs d'ortolans. Ces reliefs ne sont que des restes, graillonsou rogatons : le régal, le festin n'est qu'un repas d'après repas, dans l'abandon sale de la table non desservie. Lerat devillen'a rienproduit,soninvitation neluicoûteguère.Boursaultledit,dans sesFables d'Ésope, oùle rat citadin résidechezungrosfermier général.Huile,beurre,jam bon,petitsalé,fromage, tout estàdiscrétion.Ilestfaciled'inviter lecousin de la campagne,et de faire la vieaux dépensd'autrui. Le fermier général n'a rien produit non plus,ni huile,nijam bon, ni fromage. Mais, de force ou de droit, il sait lesdétourner à son propre profit. Cela dit, son rat prend ses restes, il sait les détournerencore.L'invitation profite enfin au rat deschamps.La fête, on lesait,tournecourt.Lesdeuxcopainsdétalentdutapisau premier bruit entendu à la porte. Ce n'était que du bruit, mais c'était un message, commeune informationqui sèmela panique. Uneinterruption,unecorruption,unerupture,enfin, decommuni cation. Ce bruit était-ilunmessage, vraiment? N'était-ilpas,plu tôt, un parasite? Qui, au bout du compte,a lederniermot. Qui sème le désordre, qui ensemence un ordre différent. Venez donc aux champs, on n'y mangeque potage,mais à loisir, sans bruit. Lefermiergénéralestunparasite.Iltouchedesrentesdesitua tion. Ellessont assezgrasses:festinderoi,table àortolans,tapis turc. Le premierrat est un parasite. Il touchedesrestesdesitua tion,reliefs d'ortolans, surlemêmetapis.Rienn'y manque,ditLa\\n10 Le parasite Fontaine. A la table du premier, qui est la table du fermier, le second rat est parasite. Il se laisse entretenir, comme on dit. Ne perd ni une occasion, ni une bouchée. Ils interviennent tous, au sens strict : le gabelou fait suer le bonhomme, le rat lève l'impôt sur lefermier, l'invité exploite son hôte. Mais, la plume me tombe des mains, le bruit, dernier parasite, a raison, par interruption, des interventions de ce genre. Dans la chaîne parasitaire, le dernier venu tente de supplantercelui qui\"))>\n"
     ]
    }
   ],
   "source": [
    "for doc in graph_doc[:5]:\n",
    "    print(doc.dict)"
   ]
  },
  {
   "cell_type": "code",
   "execution_count": 31,
   "id": "6a1c8f99",
   "metadata": {},
   "outputs": [],
   "source": [
    "graph_store = Neo4jGraph(url='bolt://localhost:7690' , username= 'neo4j', password= 'administrador')\n",
    "graph_store.add_graph_documents(graph_doc, baseEntityLabel=True, include_source=True)\n"
   ]
  },
  {
   "cell_type": "code",
   "execution_count": 37,
   "id": "664b0d55",
   "metadata": {},
   "outputs": [],
   "source": [
    "from langchain.chains import GraphCypherQAChain\n",
    "\n",
    "# Optional: inspect schema so the model knows how to query\n",
    "graph_store.refresh_schema()  # <-- auto-reads node labels and relationships\n",
    "\n",
    "# Create the QA chain\n",
    "qa_chain = GraphCypherQAChain.from_llm(\n",
    "    llm=llm,\n",
    "    graph=graph_store,\n",
    "    allow_dangerous_requests = True,\n",
    "    cypher_prompt_template=\"\"\"\n",
    "You are Michel Serres, a philosopher who must answer using his book and personal opinion\n",
    "\n",
    "{schema}\n",
    "\n",
    "Translate the user's question into a Cypher query. Then answer it based on the results.\n",
    "Question: {question}\n",
    "\"\"\",\n",
    "    verbose=True\n",
    ")\n"
   ]
  },
  {
   "cell_type": "code",
   "execution_count": 42,
   "id": "38bd0281",
   "metadata": {},
   "outputs": [
    {
     "name": "stdout",
     "output_type": "stream",
     "text": [
      "\n",
      "\n",
      "\u001b[1m> Entering new GraphCypherQAChain chain...\u001b[0m\n",
      "Generated Cypher:\n",
      "\u001b[32;1m\u001b[1;3mcypher\n",
      "MATCH (n)\n",
      "WHERE n.id = 'LE PARASITE'\n",
      "RETURN n\n",
      "\u001b[0m\n",
      "Full Context:\n",
      "\u001b[32;1m\u001b[1;3m[{'n': {'id': 'LE PARASITE'}}]\u001b[0m\n",
      "\n",
      "\u001b[1m> Finished chain.\u001b[0m\n",
      "Answer: I don't know the answer.\n"
     ]
    }
   ],
   "source": [
    "question = \"What is LE PARASITE\"\n",
    "result = qa_chain.run(question)\n",
    "\n",
    "print(\"Answer:\", result)\n"
   ]
  },
  {
   "cell_type": "markdown",
   "id": "dcdb65f8",
   "metadata": {},
   "source": [
    "# DEPRECATED"
   ]
  },
  {
   "cell_type": "code",
   "execution_count": 1,
   "id": "91fefd17",
   "metadata": {},
   "outputs": [
    {
     "name": "stdout",
     "output_type": "stream",
     "text": [
      "Prepared 96 chunks\n",
      "{'text': 'Parasite [[Quasi-objet]] [[Thanatocratie]] Biogée Projet 1 Contrat naturel [[Projet 2 Éducation, transdisciplinarité et ouverture]] Hominescence Cosmocratie Connectif Relation [[Structure (mathématiques)]] [[Autosuffisance des mathématiques]] [[Analyse mathématique]] [[Importance du monde sensible en philosophie]] Musique - [[Musique]] - [[Musique et vivant]] - [[Musique et néguentropie]] - [[Musique et relations]] - [[Visitation]] [[Communication]] [[But de la philosophie]] Politique et droit [[Politique du tout]] [[C Concepts et personnages/Concepts/Habiter]]', 'source': 'notes\\\\B Concepts et personnages\\\\B Concepts et personnages\\\\Concepts\\\\0 Concepts créés par Michel Serres.md', 'chunk_id': 0}\n"
     ]
    }
   ],
   "source": [
    "import os\n",
    "import markdown\n",
    "from bs4 import BeautifulSoup\n",
    "\n",
    "def parse_markdown_to_text(md_file_path):\n",
    "    with open(md_file_path, 'r', encoding='utf-8') as f:\n",
    "        md_content = f.read()\n",
    "    html = markdown.markdown(md_content)\n",
    "    soup = BeautifulSoup(html, 'html.parser')\n",
    "    return soup.get_text()\n",
    "\n",
    "def chunk_text(text, chunk_size=500, overlap=100):\n",
    "    words = text.split()\n",
    "    chunks = []\n",
    "    i = 0\n",
    "    while i < len(words):\n",
    "        chunk = words[i:i + chunk_size]\n",
    "        chunks.append(\" \".join(chunk))\n",
    "        i += chunk_size - overlap\n",
    "    return chunks\n",
    "\n",
    "# recursive scan of .md files\n",
    "all_chunks = []\n",
    "for root, dirs, files in os.walk(\"notes\"):\n",
    "    for file in files:\n",
    "        if file.endswith(\".md\"):\n",
    "            full_path = os.path.join(root, file)\n",
    "            text = parse_markdown_to_text(full_path)\n",
    "            chunks = chunk_text(text)\n",
    "            for idx, chunk in enumerate(chunks):\n",
    "                all_chunks.append({\n",
    "                    \"text\": chunk,\n",
    "                    \"source\": full_path,\n",
    "                    \"chunk_id\": idx\n",
    "                })\n",
    "\n",
    "# quick preview\n",
    "print(f\"Prepared {len(all_chunks)} chunks\")\n",
    "print(all_chunks[0])\n"
   ]
  },
  {
   "cell_type": "code",
   "execution_count": 2,
   "id": "f9aa791d",
   "metadata": {},
   "outputs": [
    {
     "name": "stdout",
     "output_type": "stream",
     "text": [
      "Total words across all chunks: 22901\n"
     ]
    }
   ],
   "source": [
    "total_words = sum(len(chunk['text'].split()) for chunk in all_chunks)\n",
    "print(f\"Total words across all chunks: {total_words}\")\n"
   ]
  },
  {
   "cell_type": "code",
   "execution_count": 3,
   "id": "e70386a1",
   "metadata": {},
   "outputs": [
    {
     "name": "stdout",
     "output_type": "stream",
     "text": [
      "Found 76 unique markdown files:\n",
      "notes\\B Concepts et personnages\\B Concepts et personnages\\Personnages\\Arlequin.md\n",
      "notes\\B Concepts et personnages\\B Concepts et personnages\\Concepts\\0 Concepts créés par Michel Serres.md\n",
      "notes\\B Concepts et personnages\\B Concepts et personnages\\Mots et idées\\Fonction du philosophe.md\n",
      "notes\\B Concepts et personnages\\B Concepts et personnages\\Mots et idées\\Plérôme.md\n",
      "notes\\B Concepts et personnages\\B Concepts et personnages\\Concepts\\Grand récit.md\n",
      "notes\\I Méthodes\\I Méthodes\\méthode algorithmique.md\n",
      "notes\\B Concepts et personnages\\B Concepts et personnages\\Concepts\\Exodarwinisme.md\n",
      "notes\\B Concepts et personnages\\B Concepts et personnages\\Mots et idées\\But de la philosophie.md\n",
      "notes\\B Concepts et personnages\\B Concepts et personnages\\Personnages\\1.Personnages de Michel Serres (liste SA).md\n",
      "notes\\B Concepts et personnages\\B Concepts et personnages\\Mots et idées\\Humus.md\n",
      "notes\\B Concepts et personnages\\B Concepts et personnages\\Mots et idées\\Paix et divin.md\n",
      "notes\\B Concepts et personnages\\B Concepts et personnages\\Mots et idées\\Amour.md\n",
      "notes\\I Méthodes\\I Méthodes\\L'art des prépositions, méthodologie du site mobile.md\n",
      "notes\\I Méthodes\\I Méthodes\\penser le multiple sans le concept, vers un intellect démocratique.md\n",
      "notes\\Idées préparatoires\\Idées préparatoires\\Graphe sémantique.md\n",
      "notes\\I Méthodes\\I Méthodes\\Le local et le global.md\n",
      "notes\\I Méthodes\\I Méthodes\\L'art de la complainte.md\n",
      "notes\\I Méthodes\\I Méthodes\\L'histoire.md\n",
      "notes\\B Concepts et personnages\\B Concepts et personnages\\Mots et idées\\Codage.md\n",
      "notes\\B Concepts et personnages\\B Concepts et personnages\\Personnages\\Grand fétiche.md\n",
      "notes\\B Concepts et personnages\\B Concepts et personnages\\Personnages\\Jupiter, Mars et Quirinus.md\n",
      "notes\\B Concepts et personnages\\B Concepts et personnages\\Personnages\\Pénélope.md\n",
      "notes\\B Concepts et personnages\\B Concepts et personnages\\Personnages\\Le malpropre.md\n",
      "notes\\B Concepts et personnages\\B Concepts et personnages\\Personnages\\Le parasite.md\n",
      "notes\\B Concepts et personnages\\B Concepts et personnages\\Mots et idées\\Communication.md\n",
      "notes\\I Méthodes\\I Méthodes\\Distinction entre nature et culture.md\n",
      "notes\\B Concepts et personnages\\B Concepts et personnages\\Concepts\\Transcendantal objectif.md\n",
      "notes\\B Concepts et personnages\\B Concepts et personnages\\Mots et idées\\Les cinq formatages de l'Occident.md\n",
      "notes\\B Concepts et personnages\\B Concepts et personnages\\Mots et idées\\Tohu-bohu.md\n",
      "notes\\B Concepts et personnages\\B Concepts et personnages\\Mots et idées\\Visitation.md\n",
      "notes\\B Concepts et personnages\\B Concepts et personnages\\Mots et idées\\Humus, homo, humilité_orientation politique.md\n",
      "notes\\B Concepts et personnages\\B Concepts et personnages\\Concepts\\Objet-monde.md\n",
      "notes\\B Concepts et personnages\\B Concepts et personnages\\Personnages\\L'Arbitre.md\n",
      "notes\\B Concepts et personnages\\B Concepts et personnages\\Mots et idées\\Importance du monde sensible en philosophie.md\n",
      "notes\\B Concepts et personnages\\B Concepts et personnages\\Mots et idées\\Chaos.md\n",
      "notes\\B Concepts et personnages\\B Concepts et personnages\\Mots et idées\\Chréode.md\n",
      "notes\\B Concepts et personnages\\B Concepts et personnages\\Mots et idées\\Monothéisme.md\n",
      "notes\\B Concepts et personnages\\B Concepts et personnages\\Personnages\\Noé.md\n",
      "notes\\B Concepts et personnages\\B Concepts et personnages\\Concepts\\Point fixe.md\n",
      "notes\\B Concepts et personnages\\B Concepts et personnages\\Concepts\\Thanatocratie.md\n",
      "notes\\Idées préparatoires\\Idées préparatoires\\old - Manifeste politique pour le futur.md\n",
      "notes\\B Concepts et personnages\\B Concepts et personnages\\Mots et idées\\La folie de la croissance infinie.md\n",
      "notes\\B Concepts et personnages\\B Concepts et personnages\\Mots et idées\\Tessères d'hospitalité.md\n",
      "notes\\B Concepts et personnages\\B Concepts et personnages\\Personnages\\Les muses.md\n",
      "notes\\B Concepts et personnages\\B Concepts et personnages\\Mots et idées\\Espace topologique.md\n",
      "notes\\I Méthodes\\I Méthodes\\style et philosophie de langue Française.md\n",
      "notes\\I Méthodes\\I Méthodes\\Voyages, voyages.md\n",
      "notes\\B Concepts et personnages\\B Concepts et personnages\\Mots et idées\\Support - message.md\n",
      "notes\\B Concepts et personnages\\B Concepts et personnages\\Mots et idées\\Trois âges.md\n",
      "notes\\Idées préparatoires\\Idées préparatoires\\Habiter.md\n",
      "notes\\B Concepts et personnages\\B Concepts et personnages\\Concepts\\Hominescence.md\n",
      "notes\\I Méthodes\\I Méthodes\\Discours de la méthode.md\n",
      "notes\\I Méthodes\\I Méthodes\\passage du nord-ouest.md\n",
      "notes\\B Concepts et personnages\\B Concepts et personnages\\Mots et idées\\Chôra.md\n",
      "notes\\B Concepts et personnages\\B Concepts et personnages\\Mots et idées\\Humus, homo, humilité_définition de l'homme 2.md\n",
      "notes\\B Concepts et personnages\\B Concepts et personnages\\Mots et idées\\Humus, homo, humilité_définition de l'homme 1.md\n",
      "notes\\B Concepts et personnages\\B Concepts et personnages\\Personnages\\0. Personnages.md\n",
      "notes\\B Concepts et personnages\\B Concepts et personnages\\Personnages\\Hestia.md\n",
      "notes\\B Concepts et personnages\\B Concepts et personnages\\Concepts\\Quasi-objet.md\n",
      "notes\\B Concepts et personnages\\B Concepts et personnages\\Mots et idées\\Pharmakos.md\n",
      "notes\\B Concepts et personnages\\B Concepts et personnages\\Mots et idées\\Musaque.md\n",
      "notes\\Idées préparatoires\\Idées préparatoires\\Nouvelles questions.md\n",
      "notes\\I Méthodes\\I Méthodes\\randonnée.md\n",
      "notes\\Idées préparatoires\\Idées préparatoires\\Pensée politique.md\n",
      "notes\\Idées préparatoires\\Idées préparatoires\\Règles de gouvernance des biens communs.md\n",
      "notes\\B Concepts et personnages\\B Concepts et personnages\\Personnages\\Ulysse.md\n",
      "notes\\B Concepts et personnages\\B Concepts et personnages\\Mots et idées\\Identité et appartenance.md\n",
      "notes\\B Concepts et personnages\\B Concepts et personnages\\Mots et idées\\Metaxu.md\n",
      "notes\\B Concepts et personnages\\B Concepts et personnages\\Mots et idées\\Politique du tout.md\n",
      "notes\\I Méthodes\\I Méthodes\\À l'erre de Serres.md\n",
      "notes\\I Méthodes\\I Méthodes\\Foisonnement des singularités.md\n",
      "notes\\B Concepts et personnages\\B Concepts et personnages\\Mots et idées\\Information.md\n",
      "notes\\B Concepts et personnages\\B Concepts et personnages\\Personnages\\Tiers instruit.md\n",
      "notes\\B Concepts et personnages\\B Concepts et personnages\\Mots et idées\\Kérygme.md\n",
      "notes\\B Concepts et personnages\\B Concepts et personnages\\Mots et idées\\Proprioception.md\n",
      "notes\\B Concepts et personnages\\B Concepts et personnages\\Concepts\\Tiers-instruit.md\n"
     ]
    }
   ],
   "source": [
    "sources = set(chunk['source'] for chunk in all_chunks)\n",
    "print(f\"Found {len(sources)} unique markdown files:\")\n",
    "for s in sources:\n",
    "    print(s)\n"
   ]
  },
  {
   "cell_type": "code",
   "execution_count": 4,
   "id": "d24335db",
   "metadata": {},
   "outputs": [
    {
     "name": "stderr",
     "output_type": "stream",
     "text": [
      "C:\\Users\\Andre\\AppData\\Roaming\\Python\\Python312\\site-packages\\tqdm\\auto.py:21: TqdmWarning: IProgress not found. Please update jupyter and ipywidgets. See https://ipywidgets.readthedocs.io/en/stable/user_install.html\n",
      "  from .autonotebook import tqdm as notebook_tqdm\n"
     ]
    }
   ],
   "source": [
    "# choose model\n",
    "from sentence_transformers import SentenceTransformer"
   ]
  },
  {
   "cell_type": "code",
   "execution_count": 5,
   "id": "2c4ee520",
   "metadata": {},
   "outputs": [
    {
     "name": "stderr",
     "output_type": "stream",
     "text": [
      "Batches: 100%|██████████| 3/3 [00:01<00:00,  1.84it/s]"
     ]
    },
    {
     "name": "stdout",
     "output_type": "stream",
     "text": [
      "Generated embeddings shape: (96, 384)\n"
     ]
    },
    {
     "name": "stderr",
     "output_type": "stream",
     "text": [
      "\n"
     ]
    }
   ],
   "source": [
    "embed_model = SentenceTransformer('all-MiniLM-L6-v2')  # swap for distiluse-base-multilingual-cased-v2 if needed\n",
    "\n",
    "# create embeddings\n",
    "texts = [chunk['text'] for chunk in all_chunks]\n",
    "embeddings = embed_model.encode(texts, show_progress_bar=True)\n",
    "\n",
    "# verify\n",
    "print(f\"Generated embeddings shape: {embeddings.shape}\")\n"
   ]
  },
  {
   "cell_type": "code",
   "execution_count": 6,
   "id": "c7f02e22",
   "metadata": {},
   "outputs": [],
   "source": [
    "import faiss\n",
    "import numpy as np"
   ]
  },
  {
   "cell_type": "code",
   "execution_count": 7,
   "id": "50230771",
   "metadata": {},
   "outputs": [
    {
     "name": "stdout",
     "output_type": "stream",
     "text": [
      "Indexed 96 chunks\n"
     ]
    }
   ],
   "source": [
    "# dimension of the embedding\n",
    "embedding_dim = embeddings.shape[1]\n",
    "\n",
    "# build the index\n",
    "index = faiss.IndexFlatIP(embedding_dim)  # inner product for cosine-like similarity\n",
    "# normalize if you want cosine:\n",
    "faiss.normalize_L2(embeddings)\n",
    "\n",
    "# add embeddings\n",
    "index.add(embeddings)\n",
    "\n",
    "# verify\n",
    "print(f\"Indexed {index.ntotal} chunks\")\n"
   ]
  },
  {
   "cell_type": "code",
   "execution_count": 8,
   "id": "c3c4d446",
   "metadata": {},
   "outputs": [],
   "source": [
    "faiss.write_index(index, \"faiss_index.index\")"
   ]
  },
  {
   "cell_type": "code",
   "execution_count": 9,
   "id": "d50854be",
   "metadata": {},
   "outputs": [],
   "source": [
    "import json\n",
    "\n",
    "with open(\"chunks.json\", \"w\", encoding=\"utf-8\") as f:\n",
    "    json.dump(all_chunks, f, ensure_ascii=False, indent=2)\n"
   ]
  },
  {
   "cell_type": "code",
   "execution_count": 10,
   "id": "c9b1bbd8",
   "metadata": {},
   "outputs": [
    {
     "name": "stdout",
     "output_type": "stream",
     "text": [
      "Top results:\n",
      "\n",
      "Source: notes\\B Concepts et personnages\\B Concepts et personnages\\Mots et idées\\Communication.md | chunk 0\n",
      "Leçon leibnizienne : la communication optimale n’est pas l’unisson, mais une harmonie saturée de différences ?...\n",
      "\n",
      "Source: notes\\B Concepts et personnages\\B Concepts et personnages\\Concepts\\Point fixe.md | chunk 0\n",
      "La structure du point fixe est la premiêre grande découverte de Michel Serres....\n",
      "\n",
      "Source: notes\\I Méthodes\\I Méthodes\\passage du nord-ouest.md | chunk 0\n",
      "Il existe un passage entre les sciences exactes et les sciences humaines: le passage est rare et resserre […] Des sciences humaines aux sciences exactes, ou inversement, le chemin ne traverse pas un espace homogène et vide. La métaphore de cet archipel extraordinairement compliqué du Grand Nord cana...\n",
      "\n",
      "Source: notes\\I Méthodes\\I Méthodes\\randonnée.md | chunk 0\n",
      "Face à l’impossibilité de faire le tour des trois champs du savoir, des hommes et des choses, il faut envisager une randonnée: \"chaque discipline, expérimentation ou théorème, livre une vue qu'il faut aller chercher, autre déplacement. L'encyclopédie, si elle existe, se visite comme le monde, s'il e...\n",
      "\n",
      "Source: notes\\B Concepts et personnages\\B Concepts et personnages\\Mots et idées\\Fonction du philosophe.md | chunk 0\n",
      "Le philosophe a pour rêve de faire le tour du monde des humains, des savoirs, et des objets. Professeur ou sagefemme plus que prophète, il affirme la puissance de la vie qui s’accommode mal d’institutions désuètes. Il bouscule, il dérange, il inquiète, si l’on veut bien faire attention et prendre ga...\n"
     ]
    }
   ],
   "source": [
    "# embed the query\n",
    "query = \"What is Michel Serres' theory of communication?\"\n",
    "query_embedding = embed_model.encode([query])\n",
    "faiss.normalize_L2(query_embedding)\n",
    "\n",
    "# search\n",
    "k = 5\n",
    "D, I = index.search(query_embedding, k)\n",
    "\n",
    "print(\"Top results:\")\n",
    "for idx in I[0]:\n",
    "    chunk = all_chunks[idx]\n",
    "    print(f\"\\nSource: {chunk['source']} | chunk {chunk['chunk_id']}\")\n",
    "    print(chunk['text'][:300] + \"...\")\n"
   ]
  },
  {
   "cell_type": "code",
   "execution_count": 11,
   "id": "b16f50ea",
   "metadata": {},
   "outputs": [],
   "source": [
    "# your user query\n",
    "query = \"Explain Michel Serres' concept of communication\"\n",
    "\n",
    "# embed and search (from step 3)\n",
    "query_embedding = embed_model.encode([query])\n",
    "faiss.normalize_L2(query_embedding)\n",
    "\n",
    "k = 5\n",
    "D, I = index.search(query_embedding, k)\n",
    "\n",
    "# collect top chunks\n",
    "top_chunks = [all_chunks[idx][\"text\"] for idx in I[0]]\n",
    "\n",
    "# build the context\n",
    "context = \"\\n\\n\".join(top_chunks)\n",
    "\n",
    "# final prompt\n",
    "prompt = f\"\"\"You are a helpful assistant with expertise in Michel Serres' work.\n",
    "Use the following context to answer the question.\n",
    "If you don't know, say so honestly.\n",
    "\n",
    "Context:\n",
    "{context}\n",
    "\n",
    "Question:\n",
    "{query}\n",
    "\n",
    "Answer:\"\"\"\n"
   ]
  },
  {
   "cell_type": "code",
   "execution_count": 13,
   "id": "5aecbbf8",
   "metadata": {},
   "outputs": [],
   "source": [
    "from transformers import AutoModelForCausalLM, AutoTokenizer\n",
    "import torch\n",
    "from transformers import logging"
   ]
  },
  {
   "cell_type": "code",
   "execution_count": null,
   "id": "09c884e7",
   "metadata": {},
   "outputs": [
    {
     "name": "stderr",
     "output_type": "stream",
     "text": [
      "Fetching 5 files:   0%|          | 0/5 [00:00<?, ?it/s]"
     ]
    }
   ],
   "source": [
    "# Load model directly\n",
    "from transformers import AutoTokenizer, AutoModelForCausalLM\n",
    "\n",
    "tokenizer = AutoTokenizer.from_pretrained(\"mistralai/Mistral-Nemo-Instruct-2407\")\n",
    "model = AutoModelForCausalLM.from_pretrained(\"mistralai/Mistral-Nemo-Instruct-2407\")"
   ]
  },
  {
   "cell_type": "code",
   "execution_count": null,
   "id": "f0607d34",
   "metadata": {},
   "outputs": [
    {
     "name": "stderr",
     "output_type": "stream",
     "text": [
      "Fetching 5 files:   0%|          | 0/5 [00:00<?, ?it/s]"
     ]
    }
   ],
   "source": [
    "\n",
    "\n",
    "model_name = \"mistralai/Mistral-Nemo-Instruct-2407\"  # replace with your actual checkpoint name\n",
    "tokenizer = AutoTokenizer.from_pretrained(model_name)\n",
    "model = AutoModelForCausalLM.from_pretrained(model_name)\n",
    "\n",
    "inputs = tokenizer(prompt, return_tensors=\"pt\")\n",
    "outputs = model.generate(**inputs, max_new_tokens=512)\n",
    "answer = tokenizer.decode(outputs[0], skip_special_tokens=True)\n",
    "\n",
    "print(answer)\n"
   ]
  }
 ],
 "metadata": {
  "kernelspec": {
   "display_name": "Python 3",
   "language": "python",
   "name": "python3"
  },
  "language_info": {
   "codemirror_mode": {
    "name": "ipython",
    "version": 3
   },
   "file_extension": ".py",
   "mimetype": "text/x-python",
   "name": "python",
   "nbconvert_exporter": "python",
   "pygments_lexer": "ipython3",
   "version": "3.12.11"
  }
 },
 "nbformat": 4,
 "nbformat_minor": 5
}
