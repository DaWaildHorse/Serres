{
 "cells": [
  {
   "cell_type": "code",
   "execution_count": 1,
   "id": "91fefd17",
   "metadata": {},
   "outputs": [
    {
     "name": "stdout",
     "output_type": "stream",
     "text": [
      "Prepared 96 chunks\n",
      "{'text': 'Parasite [[Quasi-objet]] [[Thanatocratie]] Biogée Projet 1 Contrat naturel [[Projet 2 Éducation, transdisciplinarité et ouverture]] Hominescence Cosmocratie Connectif Relation [[Structure (mathématiques)]] [[Autosuffisance des mathématiques]] [[Analyse mathématique]] [[Importance du monde sensible en philosophie]] Musique - [[Musique]] - [[Musique et vivant]] - [[Musique et néguentropie]] - [[Musique et relations]] - [[Visitation]] [[Communication]] [[But de la philosophie]] Politique et droit [[Politique du tout]] [[C Concepts et personnages/Concepts/Habiter]]', 'source': 'notes\\\\B Concepts et personnages\\\\B Concepts et personnages\\\\Concepts\\\\0 Concepts créés par Michel Serres.md', 'chunk_id': 0}\n"
     ]
    }
   ],
   "source": [
    "import os\n",
    "import markdown\n",
    "from bs4 import BeautifulSoup\n",
    "\n",
    "def parse_markdown_to_text(md_file_path):\n",
    "    with open(md_file_path, 'r', encoding='utf-8') as f:\n",
    "        md_content = f.read()\n",
    "    html = markdown.markdown(md_content)\n",
    "    soup = BeautifulSoup(html, 'html.parser')\n",
    "    return soup.get_text()\n",
    "\n",
    "def chunk_text(text, chunk_size=500, overlap=100):\n",
    "    words = text.split()\n",
    "    chunks = []\n",
    "    i = 0\n",
    "    while i < len(words):\n",
    "        chunk = words[i:i + chunk_size]\n",
    "        chunks.append(\" \".join(chunk))\n",
    "        i += chunk_size - overlap\n",
    "    return chunks\n",
    "\n",
    "# recursive scan of .md files\n",
    "all_chunks = []\n",
    "for root, dirs, files in os.walk(\"notes\"):\n",
    "    for file in files:\n",
    "        if file.endswith(\".md\"):\n",
    "            full_path = os.path.join(root, file)\n",
    "            text = parse_markdown_to_text(full_path)\n",
    "            chunks = chunk_text(text)\n",
    "            for idx, chunk in enumerate(chunks):\n",
    "                all_chunks.append({\n",
    "                    \"text\": chunk,\n",
    "                    \"source\": full_path,\n",
    "                    \"chunk_id\": idx\n",
    "                })\n",
    "\n",
    "# quick preview\n",
    "print(f\"Prepared {len(all_chunks)} chunks\")\n",
    "print(all_chunks[0])\n"
   ]
  },
  {
   "cell_type": "code",
   "execution_count": 2,
   "id": "f9aa791d",
   "metadata": {},
   "outputs": [
    {
     "name": "stdout",
     "output_type": "stream",
     "text": [
      "Total words across all chunks: 22901\n"
     ]
    }
   ],
   "source": [
    "total_words = sum(len(chunk['text'].split()) for chunk in all_chunks)\n",
    "print(f\"Total words across all chunks: {total_words}\")\n"
   ]
  },
  {
   "cell_type": "code",
   "execution_count": 3,
   "id": "e70386a1",
   "metadata": {},
   "outputs": [
    {
     "name": "stdout",
     "output_type": "stream",
     "text": [
      "Found 76 unique markdown files:\n",
      "notes\\B Concepts et personnages\\B Concepts et personnages\\Personnages\\Arlequin.md\n",
      "notes\\B Concepts et personnages\\B Concepts et personnages\\Concepts\\0 Concepts créés par Michel Serres.md\n",
      "notes\\B Concepts et personnages\\B Concepts et personnages\\Mots et idées\\Fonction du philosophe.md\n",
      "notes\\B Concepts et personnages\\B Concepts et personnages\\Mots et idées\\Plérôme.md\n",
      "notes\\B Concepts et personnages\\B Concepts et personnages\\Concepts\\Grand récit.md\n",
      "notes\\I Méthodes\\I Méthodes\\méthode algorithmique.md\n",
      "notes\\B Concepts et personnages\\B Concepts et personnages\\Concepts\\Exodarwinisme.md\n",
      "notes\\B Concepts et personnages\\B Concepts et personnages\\Mots et idées\\But de la philosophie.md\n",
      "notes\\B Concepts et personnages\\B Concepts et personnages\\Personnages\\1.Personnages de Michel Serres (liste SA).md\n",
      "notes\\B Concepts et personnages\\B Concepts et personnages\\Mots et idées\\Humus.md\n",
      "notes\\B Concepts et personnages\\B Concepts et personnages\\Mots et idées\\Paix et divin.md\n",
      "notes\\B Concepts et personnages\\B Concepts et personnages\\Mots et idées\\Amour.md\n",
      "notes\\I Méthodes\\I Méthodes\\L'art des prépositions, méthodologie du site mobile.md\n",
      "notes\\I Méthodes\\I Méthodes\\penser le multiple sans le concept, vers un intellect démocratique.md\n",
      "notes\\Idées préparatoires\\Idées préparatoires\\Graphe sémantique.md\n",
      "notes\\I Méthodes\\I Méthodes\\Le local et le global.md\n",
      "notes\\I Méthodes\\I Méthodes\\L'art de la complainte.md\n",
      "notes\\I Méthodes\\I Méthodes\\L'histoire.md\n",
      "notes\\B Concepts et personnages\\B Concepts et personnages\\Mots et idées\\Codage.md\n",
      "notes\\B Concepts et personnages\\B Concepts et personnages\\Personnages\\Grand fétiche.md\n",
      "notes\\B Concepts et personnages\\B Concepts et personnages\\Personnages\\Jupiter, Mars et Quirinus.md\n",
      "notes\\B Concepts et personnages\\B Concepts et personnages\\Personnages\\Pénélope.md\n",
      "notes\\B Concepts et personnages\\B Concepts et personnages\\Personnages\\Le malpropre.md\n",
      "notes\\B Concepts et personnages\\B Concepts et personnages\\Personnages\\Le parasite.md\n",
      "notes\\B Concepts et personnages\\B Concepts et personnages\\Mots et idées\\Communication.md\n",
      "notes\\I Méthodes\\I Méthodes\\Distinction entre nature et culture.md\n",
      "notes\\B Concepts et personnages\\B Concepts et personnages\\Concepts\\Transcendantal objectif.md\n",
      "notes\\B Concepts et personnages\\B Concepts et personnages\\Mots et idées\\Les cinq formatages de l'Occident.md\n",
      "notes\\B Concepts et personnages\\B Concepts et personnages\\Mots et idées\\Tohu-bohu.md\n",
      "notes\\B Concepts et personnages\\B Concepts et personnages\\Mots et idées\\Visitation.md\n",
      "notes\\B Concepts et personnages\\B Concepts et personnages\\Mots et idées\\Humus, homo, humilité_orientation politique.md\n",
      "notes\\B Concepts et personnages\\B Concepts et personnages\\Concepts\\Objet-monde.md\n",
      "notes\\B Concepts et personnages\\B Concepts et personnages\\Personnages\\L'Arbitre.md\n",
      "notes\\B Concepts et personnages\\B Concepts et personnages\\Mots et idées\\Importance du monde sensible en philosophie.md\n",
      "notes\\B Concepts et personnages\\B Concepts et personnages\\Mots et idées\\Chaos.md\n",
      "notes\\B Concepts et personnages\\B Concepts et personnages\\Mots et idées\\Chréode.md\n",
      "notes\\B Concepts et personnages\\B Concepts et personnages\\Mots et idées\\Monothéisme.md\n",
      "notes\\B Concepts et personnages\\B Concepts et personnages\\Personnages\\Noé.md\n",
      "notes\\B Concepts et personnages\\B Concepts et personnages\\Concepts\\Point fixe.md\n",
      "notes\\B Concepts et personnages\\B Concepts et personnages\\Concepts\\Thanatocratie.md\n",
      "notes\\Idées préparatoires\\Idées préparatoires\\old - Manifeste politique pour le futur.md\n",
      "notes\\B Concepts et personnages\\B Concepts et personnages\\Mots et idées\\La folie de la croissance infinie.md\n",
      "notes\\B Concepts et personnages\\B Concepts et personnages\\Mots et idées\\Tessères d'hospitalité.md\n",
      "notes\\B Concepts et personnages\\B Concepts et personnages\\Personnages\\Les muses.md\n",
      "notes\\B Concepts et personnages\\B Concepts et personnages\\Mots et idées\\Espace topologique.md\n",
      "notes\\I Méthodes\\I Méthodes\\style et philosophie de langue Française.md\n",
      "notes\\I Méthodes\\I Méthodes\\Voyages, voyages.md\n",
      "notes\\B Concepts et personnages\\B Concepts et personnages\\Mots et idées\\Support - message.md\n",
      "notes\\B Concepts et personnages\\B Concepts et personnages\\Mots et idées\\Trois âges.md\n",
      "notes\\Idées préparatoires\\Idées préparatoires\\Habiter.md\n",
      "notes\\B Concepts et personnages\\B Concepts et personnages\\Concepts\\Hominescence.md\n",
      "notes\\I Méthodes\\I Méthodes\\Discours de la méthode.md\n",
      "notes\\I Méthodes\\I Méthodes\\passage du nord-ouest.md\n",
      "notes\\B Concepts et personnages\\B Concepts et personnages\\Mots et idées\\Chôra.md\n",
      "notes\\B Concepts et personnages\\B Concepts et personnages\\Mots et idées\\Humus, homo, humilité_définition de l'homme 2.md\n",
      "notes\\B Concepts et personnages\\B Concepts et personnages\\Mots et idées\\Humus, homo, humilité_définition de l'homme 1.md\n",
      "notes\\B Concepts et personnages\\B Concepts et personnages\\Personnages\\0. Personnages.md\n",
      "notes\\B Concepts et personnages\\B Concepts et personnages\\Personnages\\Hestia.md\n",
      "notes\\B Concepts et personnages\\B Concepts et personnages\\Concepts\\Quasi-objet.md\n",
      "notes\\B Concepts et personnages\\B Concepts et personnages\\Mots et idées\\Pharmakos.md\n",
      "notes\\B Concepts et personnages\\B Concepts et personnages\\Mots et idées\\Musaque.md\n",
      "notes\\Idées préparatoires\\Idées préparatoires\\Nouvelles questions.md\n",
      "notes\\I Méthodes\\I Méthodes\\randonnée.md\n",
      "notes\\Idées préparatoires\\Idées préparatoires\\Pensée politique.md\n",
      "notes\\Idées préparatoires\\Idées préparatoires\\Règles de gouvernance des biens communs.md\n",
      "notes\\B Concepts et personnages\\B Concepts et personnages\\Personnages\\Ulysse.md\n",
      "notes\\B Concepts et personnages\\B Concepts et personnages\\Mots et idées\\Identité et appartenance.md\n",
      "notes\\B Concepts et personnages\\B Concepts et personnages\\Mots et idées\\Metaxu.md\n",
      "notes\\B Concepts et personnages\\B Concepts et personnages\\Mots et idées\\Politique du tout.md\n",
      "notes\\I Méthodes\\I Méthodes\\À l'erre de Serres.md\n",
      "notes\\I Méthodes\\I Méthodes\\Foisonnement des singularités.md\n",
      "notes\\B Concepts et personnages\\B Concepts et personnages\\Mots et idées\\Information.md\n",
      "notes\\B Concepts et personnages\\B Concepts et personnages\\Personnages\\Tiers instruit.md\n",
      "notes\\B Concepts et personnages\\B Concepts et personnages\\Mots et idées\\Kérygme.md\n",
      "notes\\B Concepts et personnages\\B Concepts et personnages\\Mots et idées\\Proprioception.md\n",
      "notes\\B Concepts et personnages\\B Concepts et personnages\\Concepts\\Tiers-instruit.md\n"
     ]
    }
   ],
   "source": [
    "sources = set(chunk['source'] for chunk in all_chunks)\n",
    "print(f\"Found {len(sources)} unique markdown files:\")\n",
    "for s in sources:\n",
    "    print(s)\n"
   ]
  },
  {
   "cell_type": "code",
   "execution_count": 4,
   "id": "d24335db",
   "metadata": {},
   "outputs": [
    {
     "name": "stderr",
     "output_type": "stream",
     "text": [
      "C:\\Users\\Andre\\AppData\\Roaming\\Python\\Python312\\site-packages\\tqdm\\auto.py:21: TqdmWarning: IProgress not found. Please update jupyter and ipywidgets. See https://ipywidgets.readthedocs.io/en/stable/user_install.html\n",
      "  from .autonotebook import tqdm as notebook_tqdm\n"
     ]
    }
   ],
   "source": [
    "# choose model\n",
    "from sentence_transformers import SentenceTransformer"
   ]
  },
  {
   "cell_type": "code",
   "execution_count": 5,
   "id": "2c4ee520",
   "metadata": {},
   "outputs": [
    {
     "name": "stderr",
     "output_type": "stream",
     "text": [
      "Batches: 100%|██████████| 3/3 [00:01<00:00,  1.84it/s]"
     ]
    },
    {
     "name": "stdout",
     "output_type": "stream",
     "text": [
      "Generated embeddings shape: (96, 384)\n"
     ]
    },
    {
     "name": "stderr",
     "output_type": "stream",
     "text": [
      "\n"
     ]
    }
   ],
   "source": [
    "embed_model = SentenceTransformer('all-MiniLM-L6-v2')  # swap for distiluse-base-multilingual-cased-v2 if needed\n",
    "\n",
    "# create embeddings\n",
    "texts = [chunk['text'] for chunk in all_chunks]\n",
    "embeddings = embed_model.encode(texts, show_progress_bar=True)\n",
    "\n",
    "# verify\n",
    "print(f\"Generated embeddings shape: {embeddings.shape}\")\n"
   ]
  },
  {
   "cell_type": "code",
   "execution_count": 6,
   "id": "c7f02e22",
   "metadata": {},
   "outputs": [],
   "source": [
    "import faiss\n",
    "import numpy as np"
   ]
  },
  {
   "cell_type": "code",
   "execution_count": 7,
   "id": "50230771",
   "metadata": {},
   "outputs": [
    {
     "name": "stdout",
     "output_type": "stream",
     "text": [
      "Indexed 96 chunks\n"
     ]
    }
   ],
   "source": [
    "# dimension of the embedding\n",
    "embedding_dim = embeddings.shape[1]\n",
    "\n",
    "# build the index\n",
    "index = faiss.IndexFlatIP(embedding_dim)  # inner product for cosine-like similarity\n",
    "# normalize if you want cosine:\n",
    "faiss.normalize_L2(embeddings)\n",
    "\n",
    "# add embeddings\n",
    "index.add(embeddings)\n",
    "\n",
    "# verify\n",
    "print(f\"Indexed {index.ntotal} chunks\")\n"
   ]
  },
  {
   "cell_type": "code",
   "execution_count": 8,
   "id": "c3c4d446",
   "metadata": {},
   "outputs": [],
   "source": [
    "faiss.write_index(index, \"faiss_index.index\")"
   ]
  },
  {
   "cell_type": "code",
   "execution_count": 9,
   "id": "d50854be",
   "metadata": {},
   "outputs": [],
   "source": [
    "import json\n",
    "\n",
    "with open(\"chunks.json\", \"w\", encoding=\"utf-8\") as f:\n",
    "    json.dump(all_chunks, f, ensure_ascii=False, indent=2)\n"
   ]
  },
  {
   "cell_type": "code",
   "execution_count": 10,
   "id": "c9b1bbd8",
   "metadata": {},
   "outputs": [
    {
     "name": "stdout",
     "output_type": "stream",
     "text": [
      "Top results:\n",
      "\n",
      "Source: notes\\B Concepts et personnages\\B Concepts et personnages\\Mots et idées\\Communication.md | chunk 0\n",
      "Leçon leibnizienne : la communication optimale n’est pas l’unisson, mais une harmonie saturée de différences ?...\n",
      "\n",
      "Source: notes\\B Concepts et personnages\\B Concepts et personnages\\Concepts\\Point fixe.md | chunk 0\n",
      "La structure du point fixe est la premiêre grande découverte de Michel Serres....\n",
      "\n",
      "Source: notes\\I Méthodes\\I Méthodes\\passage du nord-ouest.md | chunk 0\n",
      "Il existe un passage entre les sciences exactes et les sciences humaines: le passage est rare et resserre […] Des sciences humaines aux sciences exactes, ou inversement, le chemin ne traverse pas un espace homogène et vide. La métaphore de cet archipel extraordinairement compliqué du Grand Nord cana...\n",
      "\n",
      "Source: notes\\I Méthodes\\I Méthodes\\randonnée.md | chunk 0\n",
      "Face à l’impossibilité de faire le tour des trois champs du savoir, des hommes et des choses, il faut envisager une randonnée: \"chaque discipline, expérimentation ou théorème, livre une vue qu'il faut aller chercher, autre déplacement. L'encyclopédie, si elle existe, se visite comme le monde, s'il e...\n",
      "\n",
      "Source: notes\\B Concepts et personnages\\B Concepts et personnages\\Mots et idées\\Fonction du philosophe.md | chunk 0\n",
      "Le philosophe a pour rêve de faire le tour du monde des humains, des savoirs, et des objets. Professeur ou sagefemme plus que prophète, il affirme la puissance de la vie qui s’accommode mal d’institutions désuètes. Il bouscule, il dérange, il inquiète, si l’on veut bien faire attention et prendre ga...\n"
     ]
    }
   ],
   "source": [
    "# embed the query\n",
    "query = \"What is Michel Serres' theory of communication?\"\n",
    "query_embedding = embed_model.encode([query])\n",
    "faiss.normalize_L2(query_embedding)\n",
    "\n",
    "# search\n",
    "k = 5\n",
    "D, I = index.search(query_embedding, k)\n",
    "\n",
    "print(\"Top results:\")\n",
    "for idx in I[0]:\n",
    "    chunk = all_chunks[idx]\n",
    "    print(f\"\\nSource: {chunk['source']} | chunk {chunk['chunk_id']}\")\n",
    "    print(chunk['text'][:300] + \"...\")\n"
   ]
  },
  {
   "cell_type": "code",
   "execution_count": 11,
   "id": "b16f50ea",
   "metadata": {},
   "outputs": [],
   "source": [
    "# your user query\n",
    "query = \"Explain Michel Serres' concept of communication\"\n",
    "\n",
    "# embed and search (from step 3)\n",
    "query_embedding = embed_model.encode([query])\n",
    "faiss.normalize_L2(query_embedding)\n",
    "\n",
    "k = 5\n",
    "D, I = index.search(query_embedding, k)\n",
    "\n",
    "# collect top chunks\n",
    "top_chunks = [all_chunks[idx][\"text\"] for idx in I[0]]\n",
    "\n",
    "# build the context\n",
    "context = \"\\n\\n\".join(top_chunks)\n",
    "\n",
    "# final prompt\n",
    "prompt = f\"\"\"You are a helpful assistant with expertise in Michel Serres' work.\n",
    "Use the following context to answer the question.\n",
    "If you don't know, say so honestly.\n",
    "\n",
    "Context:\n",
    "{context}\n",
    "\n",
    "Question:\n",
    "{query}\n",
    "\n",
    "Answer:\"\"\"\n"
   ]
  },
  {
   "cell_type": "code",
   "execution_count": 13,
   "id": "5aecbbf8",
   "metadata": {},
   "outputs": [],
   "source": [
    "from transformers import AutoModelForCausalLM, AutoTokenizer\n",
    "import torch\n",
    "from transformers import logging"
   ]
  },
  {
   "cell_type": "code",
   "execution_count": null,
   "id": "09c884e7",
   "metadata": {},
   "outputs": [
    {
     "name": "stderr",
     "output_type": "stream",
     "text": [
      "Fetching 5 files:   0%|          | 0/5 [00:00<?, ?it/s]"
     ]
    }
   ],
   "source": [
    "# Load model directly\n",
    "from transformers import AutoTokenizer, AutoModelForCausalLM\n",
    "\n",
    "tokenizer = AutoTokenizer.from_pretrained(\"mistralai/Mistral-Nemo-Instruct-2407\")\n",
    "model = AutoModelForCausalLM.from_pretrained(\"mistralai/Mistral-Nemo-Instruct-2407\")"
   ]
  },
  {
   "cell_type": "code",
   "execution_count": null,
   "id": "f0607d34",
   "metadata": {},
   "outputs": [
    {
     "name": "stderr",
     "output_type": "stream",
     "text": [
      "Fetching 5 files:   0%|          | 0/5 [00:00<?, ?it/s]"
     ]
    }
   ],
   "source": [
    "\n",
    "\n",
    "model_name = \"mistralai/Mistral-Nemo-Instruct-2407\"  # replace with your actual checkpoint name\n",
    "tokenizer = AutoTokenizer.from_pretrained(model_name)\n",
    "model = AutoModelForCausalLM.from_pretrained(model_name)\n",
    "\n",
    "inputs = tokenizer(prompt, return_tensors=\"pt\")\n",
    "outputs = model.generate(**inputs, max_new_tokens=512)\n",
    "answer = tokenizer.decode(outputs[0], skip_special_tokens=True)\n",
    "\n",
    "print(answer)\n"
   ]
  }
 ],
 "metadata": {
  "kernelspec": {
   "display_name": "Serres",
   "language": "python",
   "name": "python3"
  },
  "language_info": {
   "codemirror_mode": {
    "name": "ipython",
    "version": 3
   },
   "file_extension": ".py",
   "mimetype": "text/x-python",
   "name": "python",
   "nbconvert_exporter": "python",
   "pygments_lexer": "ipython3",
   "version": "3.12.11"
  }
 },
 "nbformat": 4,
 "nbformat_minor": 5
}
